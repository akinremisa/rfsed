{
 "cells": [
  {
   "cell_type": "markdown",
   "metadata": {},
   "source": [
    "# Example on Calculation of Receiver Functions\n",
    "\n",
    "This notebook demonstrates the process of calculating receiver functions using the deconvution methods in [rf](https://github.com/trichter/rf) package"
   ]
  },
  {
   "cell_type": "markdown",
   "metadata": {},
   "source": [
    "The necessary functions are imported"
   ]
  },
  {
   "cell_type": "code",
   "execution_count": 1,
   "metadata": {},
   "outputs": [],
   "source": [
    "# Receiver Function Calculation\n",
    "import os \n",
    "import scipy\n",
    "import matplotlib.pyplot as plt\n",
    "import numpy as np\n",
    "from obspy import read_inventory, read_events, UTCDateTime as UTC\n",
    "from obspy.clients.fdsn import Client\n",
    "from rf import read_rf, RFStream\n",
    "from rf import iter_event_data, IterMultipleComponents\n",
    "from tqdm import tqdm\n",
    "from os.path import exists\n",
    "from os import mkdir\n",
    "from rfsed.util import save_calculated_RF, read_raw_waveform_data\n"
   ]
  },
  {
   "cell_type": "markdown",
   "metadata": {},
   "source": [
    "The path to save the output is defined"
   ]
  },
  {
   "cell_type": "code",
   "execution_count": 2,
   "metadata": {},
   "outputs": [],
   "source": [
    "#------------------------------------------#\n",
    "savedir=save_calculated_RF()\n",
    "rffile = savedir + '00_rf_data.h5'"
   ]
  },
  {
   "cell_type": "markdown",
   "metadata": {},
   "source": [
    "The waveform is pre-process including trimming the length of the data, filtering within defined frequency bands. \n",
    "\n",
    "The data is then rotated and deconvolved. In this example, the vertical component is deconvolved from the radial and transverse components. The receiver functions are saved to a file"
   ]
  },
  {
   "cell_type": "code",
   "execution_count": 3,
   "metadata": {},
   "outputs": [
    {
     "name": "stderr",
     "output_type": "stream",
     "text": [
      "100%|██████████| 51/51 [00:09<00:00,  5.59it/s]\n"
     ]
    }
   ],
   "source": [
    "eqdata = read_raw_waveform_data()\n",
    "rfst = RFStream()\n",
    "for stream3c in tqdm(IterMultipleComponents(eqdata, 'onset', 3)):\n",
    "    if len(stream3c) != 3:\n",
    "        continue    \n",
    "    stream3c.trim2(-10, 40, 'onset')\n",
    "    stream3c.detrend('linear')\n",
    "    stream3c.detrend('demean')\n",
    "    stream3c.taper(type = 'hann', max_percentage=0.07)\n",
    "    stream3c.filter('bandpass', freqmin = 0.05, \n",
    "                  freqmax=1.25, corners=4, zerophase=True)\n",
    "    stream3c.rf(deconvolve='iterative',  rotate='NE->RT', gauss=np.log(1.25))\n",
    "    #stream3c.plot()\n",
    "    rfst.extend(stream3c)\n",
    "rfst.write(rffile, 'H5')"
   ]
  }
 ],
 "metadata": {
  "kernelspec": {
   "display_name": "rfsed",
   "language": "python",
   "name": "python3"
  },
  "language_info": {
   "codemirror_mode": {
    "name": "ipython",
    "version": 3
   },
   "file_extension": ".py",
   "mimetype": "text/x-python",
   "name": "python",
   "nbconvert_exporter": "python",
   "pygments_lexer": "ipython3",
   "version": "3.9.0"
  }
 },
 "nbformat": 4,
 "nbformat_minor": 2
}
