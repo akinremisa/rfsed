{
 "cells": [
  {
   "cell_type": "markdown",
   "metadata": {},
   "source": [
    "# Example of Extracting Earthquake Waveform Data from seismic data from local drive\n",
    "# (Using Multiple Processors)\n",
    "\n",
    "This notebook demonstrates the process of extracting the earthquake waveform data from seismic data stored in a local drive\n",
    "The ExtractEq_Multiproc module in [rfsed](https://github.com/akinremisa/rfsed) package is used to extract the waveform data"
   ]
  },
  {
   "cell_type": "markdown",
   "metadata": {},
   "source": [
    "The required functions are first imported "
   ]
  },
  {
   "cell_type": "code",
   "execution_count": 1,
   "metadata": {},
   "outputs": [],
   "source": [
    "# %% Example ExtractEqMultiproc Function\n",
    "from glob import glob\n",
    "import os\n",
    "from obspy import read\n",
    "from rfsed.ExtractEqMultiproc import Add_sta_time_2cat, Get_Eqtimes_multiproc, ExtractEq_Multiproc\n",
    "from rfsed.util import catalog_example, raw_data_example, save_Eq_data"
   ]
  },
  {
   "cell_type": "markdown",
   "metadata": {},
   "source": [
    "The station parameters, catalog of events, savepath and output file name are defined."
   ]
  },
  {
   "cell_type": "code",
   "execution_count": 2,
   "metadata": {},
   "outputs": [
    {
     "name": "stdout",
     "output_type": "stream",
     "text": [
      "/sns/deepnl/rfsed/src/rfsed/data/Raw_Data_DeepNL_Groningen/\n",
      "['/sns/deepnl/rfsed/src/rfsed/data/Raw_Data_DeepNL_Groningen/OPLO.2020.02.13', '/sns/deepnl/rfsed/src/rfsed/data/Raw_Data_DeepNL_Groningen/OPLO.2020.05.15']\n"
     ]
    }
   ],
   "source": [
    "staname='OPLO'\n",
    "stalat=51.5888\n",
    "stalon=5.8121\n",
    "datapath= raw_data_example()\n",
    "print(datapath)\n",
    "datafiles = sorted(glob(\"%s*\"%(datapath)))\n",
    "print(datafiles)\n",
    "savedir=save_Eq_data()\n",
    "savepath=savedir+'/Extracted_Eq_Data_Multiproc/'\n",
    "if not os.path.exists(savepath):\n",
    "    os.mkdir(savepath)\n",
    "filename = savepath + 'eq_data.h5'\n",
    "catalogfile=catalog_example()"
   ]
  },
  {
   "cell_type": "markdown",
   "metadata": {},
   "source": [
    "The length of the waveform per earthquake is set (relative to the direct-P wave arrival) and the number of processors to use is defined"
   ]
  },
  {
   "cell_type": "code",
   "execution_count": 3,
   "metadata": {},
   "outputs": [],
   "source": [
    "Request_window=[-50, 150] #Time relative to first P arrival\n",
    "nproc = 40 #Number of processors to use if parallel processing is used"
   ]
  },
  {
   "cell_type": "markdown",
   "metadata": {},
   "source": [
    "The ExtractEq_Multiproc module has a function (Add_sta_time_2cat) to re-write the catalog of events to include additional necessary parameters per event. Paramters such as the request time window and the arrival of the direct P-wave for each event. \n",
    "\n",
    "The start time and end time for each earthquake waveform is derived using the function (Get_Eqtimes_multiproc)"
   ]
  },
  {
   "cell_type": "code",
   "execution_count": 4,
   "metadata": {},
   "outputs": [
    {
     "name": "stderr",
     "output_type": "stream",
     "text": [
      "/home/deepnl/.local/lib/python3.9/site-packages/obspy/core/util/attribdict.py:120: UserWarning: Setting attribute \"stalat\" which is not a default attribute (\"event_descriptions\", \"comments\", \"picks\", \"amplitudes\", \"focal_mechanisms\", \"origins\", \"magnitudes\", \"station_magnitudes\", \"resource_id\", \"event_type\", \"event_type_certainty\", \"creation_info\", \"preferred_origin_id\", \"preferred_magnitude_id\", \"preferred_focal_mechanism_id\").\n",
      "  warnings.warn(msg)\n",
      "/home/deepnl/.local/lib/python3.9/site-packages/obspy/core/util/attribdict.py:120: UserWarning: Setting attribute \"stalon\" which is not a default attribute (\"event_descriptions\", \"comments\", \"picks\", \"amplitudes\", \"focal_mechanisms\", \"origins\", \"magnitudes\", \"station_magnitudes\", \"resource_id\", \"event_type\", \"event_type_certainty\", \"creation_info\", \"preferred_origin_id\", \"preferred_magnitude_id\", \"preferred_focal_mechanism_id\").\n",
      "  warnings.warn(msg)\n",
      "/home/deepnl/.local/lib/python3.9/site-packages/obspy/core/util/attribdict.py:120: UserWarning: Setting attribute \"Request_start\" which is not a default attribute (\"event_descriptions\", \"comments\", \"picks\", \"amplitudes\", \"focal_mechanisms\", \"origins\", \"magnitudes\", \"station_magnitudes\", \"resource_id\", \"event_type\", \"event_type_certainty\", \"creation_info\", \"preferred_origin_id\", \"preferred_magnitude_id\", \"preferred_focal_mechanism_id\").\n",
      "  warnings.warn(msg)\n",
      "/home/deepnl/.local/lib/python3.9/site-packages/obspy/core/util/attribdict.py:120: UserWarning: Setting attribute \"Request_end\" which is not a default attribute (\"event_descriptions\", \"comments\", \"picks\", \"amplitudes\", \"focal_mechanisms\", \"origins\", \"magnitudes\", \"station_magnitudes\", \"resource_id\", \"event_type\", \"event_type_certainty\", \"creation_info\", \"preferred_origin_id\", \"preferred_magnitude_id\", \"preferred_focal_mechanism_id\").\n",
      "  warnings.warn(msg)\n"
     ]
    }
   ],
   "source": [
    "catalog = Add_sta_time_2cat(catalogfile, stalat, stalon, Request_window)\n",
    "timewindow=Get_Eqtimes_multiproc(catalog, nproc)"
   ]
  },
  {
   "cell_type": "markdown",
   "metadata": {},
   "source": [
    "Finally, the requested waveforms are extracted from the data and saved in a file"
   ]
  },
  {
   "cell_type": "code",
   "execution_count": 5,
   "metadata": {},
   "outputs": [],
   "source": [
    "eqdata = ExtractEq_Multiproc(datafiles=datafiles, timewindow=timewindow, nproc=nproc, filename=filename)"
   ]
  },
  {
   "cell_type": "markdown",
   "metadata": {},
   "source": [
    "The extracted and saved data is read and displayed to check the content of the data"
   ]
  },
  {
   "cell_type": "code",
   "execution_count": 6,
   "metadata": {},
   "outputs": [
    {
     "name": "stdout",
     "output_type": "stream",
     "text": [
      "6 Traces in the file\n",
      "6 Trace(s) in Stream:\n",
      "NL.OPLO.01.BHE | 2020-02-13T10:44:35.369538Z - 2020-02-13T10:47:55.369538Z | 40.0 Hz, 8001 samples\n",
      "NL.OPLO.01.BHN | 2020-02-13T10:44:35.369539Z - 2020-02-13T10:47:55.369539Z | 40.0 Hz, 8001 samples\n",
      "NL.OPLO.01.BHZ | 2020-02-13T10:44:35.369539Z - 2020-02-13T10:47:55.369539Z | 40.0 Hz, 8001 samples\n",
      "NL.OPLO.01.BHE | 2020-05-15T11:14:35.169539Z - 2020-05-15T11:17:55.169539Z | 40.0 Hz, 8001 samples\n",
      "NL.OPLO.01.BHN | 2020-05-15T11:14:35.169538Z - 2020-05-15T11:17:55.169538Z | 40.0 Hz, 8001 samples\n",
      "NL.OPLO.01.BHZ | 2020-05-15T11:14:35.169538Z - 2020-05-15T11:17:55.169538Z | 40.0 Hz, 8001 samples\n"
     ]
    }
   ],
   "source": [
    "#%% Check the number of traces in the file\n",
    "data_extract=read(filename)\n",
    "print(len(data_extract), 'Traces in the file')\n",
    "print(data_extract)"
   ]
  }
 ],
 "metadata": {
  "kernelspec": {
   "display_name": "rfsed",
   "language": "python",
   "name": "python3"
  },
  "language_info": {
   "codemirror_mode": {
    "name": "ipython",
    "version": 3
   },
   "file_extension": ".py",
   "mimetype": "text/x-python",
   "name": "python",
   "nbconvert_exporter": "python",
   "pygments_lexer": "ipython3",
   "version": "3.9.0"
  }
 },
 "nbformat": 4,
 "nbformat_minor": 2
}
