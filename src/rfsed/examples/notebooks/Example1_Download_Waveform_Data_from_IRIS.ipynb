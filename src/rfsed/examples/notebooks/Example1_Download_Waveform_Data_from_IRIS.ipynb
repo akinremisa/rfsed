{
 "cells": [
  {
   "cell_type": "markdown",
   "metadata": {},
   "source": [
    "# Example on Downloading Earthquake Waveform Data from IRIS\n",
    "\n",
    "This notebook demonstrates the process of downloading earthquake waveform data for the purpose of receiver function analysis using [rf](https://github.com/trichter/rf) package. It retrieves 3-component data for eartquakes in the event catalog."
   ]
  },
  {
   "cell_type": "markdown",
   "metadata": {},
   "source": [
    "We first import all the necessary modules "
   ]
  },
  {
   "cell_type": "code",
   "execution_count": 7,
   "metadata": {},
   "outputs": [],
   "source": [
    "#%% Download data from IRIS \n",
    "import os \n",
    "import scipy\n",
    "import matplotlib.pyplot as plt\n",
    "import numpy as np\n",
    "from obspy import read_inventory, read_events, UTCDateTime as UTC\n",
    "from obspy.clients.fdsn import Client\n",
    "from rf import read_rf, RFStream\n",
    "from rf  import iter_event_data, IterMultipleComponents\n",
    "from tqdm import tqdm\n",
    "from os.path import exists\n",
    "from os import mkdir\n",
    "from rfsed.util import save_Eq_data, save_IRIS_waveform"
   ]
  },
  {
   "cell_type": "markdown",
   "metadata": {},
   "source": [
    "Define the Station and Data Center Parameters as well as the file to save the data"
   ]
  },
  {
   "cell_type": "code",
   "execution_count": 8,
   "metadata": {},
   "outputs": [],
   "source": [
    "#------------------------------------------#\n",
    "savedir=save_IRIS_waveform()\n",
    "invfile = savedir + '00_eq_stations.xml'\n",
    "catfile = savedir + '00_eq_events.xml'\n",
    "datafile = savedir + '00_eq_data.h5'\n",
    "#------------------------------------------#\n",
    "# Input Examples\n",
    "staname = 'OPLO'\n",
    "Network = 'NL'\n",
    "StartDate = '2020-01-01'\n",
    "EndDate = '2020-08-31'\n",
    "StationClient='ORFEUS'\n",
    "EventClient='GFZ'\n",
    "DataClient='ORFEUS'"
   ]
  },
  {
   "cell_type": "markdown",
   "metadata": {},
   "source": [
    "Same as the previous cell: Define the Station and Data Center Parameters as well as the file to save the data\n",
    "\n",
    "You can remove the comment in this cell  to make the parameter input flexible at an input prompt."
   ]
  },
  {
   "cell_type": "code",
   "execution_count": 9,
   "metadata": {},
   "outputs": [],
   "source": [
    "# #------------------------------------------#\n",
    "# savedir=save_IRIS_waveform()\n",
    "# invfile = savedir + '00_eq_stations.xml'\n",
    "# catfile = savedir + '00_eq_events.xml'\n",
    "# datafile = savedir + '00_eq_data.h5'\n",
    "# #------------------------------------------#\n",
    "# stname = input(\"Input Station Name:\")\n",
    "# staname= str(stname)\n",
    "# Network = str(input(\"Input Network Name:\"))\n",
    "# StartDate = str(input(\"Input Start Date (YYYY-MM-DD):\"))\n",
    "# EndDate = str(input(\"Input End Date (YYYY-MM-DD):\"))\n",
    "# StationClient=str(input(\"Input Station Client e.g. IRIS, ORFEUS, GFZ:\"))\n",
    "# EventClient=str(input(\"Input Event Client e.g. IRIS, ORFEUS, GFZ:\"))\n",
    "# DataClient=str(input(\"Input Data Client e.g. IRIS, ORFEUS, GFZ:\"))"
   ]
  },
  {
   "cell_type": "markdown",
   "metadata": {},
   "source": [
    "Next is the downloading of the Station Inventory file from the appropriate data center."
   ]
  },
  {
   "cell_type": "code",
   "execution_count": 10,
   "metadata": {},
   "outputs": [],
   "source": [
    "#------------------------------------------#\n",
    "# Download station inventory\n",
    "minlat=50.3; maxlat=53.8  #South-North\n",
    "minlong=3.0; maxlong=7.7 #West-East\n",
    "if not os.path.exists(invfile):\n",
    "    client = Client(StationClient)\n",
    "    inventory = client.get_stations(network=Network, channel='BH?', level='channel', station=staname,\n",
    "                                    minlatitude = minlat, maxlatitude = maxlat, \n",
    "                                    minlongitude = minlong, maxlongitude = maxlong)\n",
    "    inventory.write(invfile, 'STATIONXML')\n",
    "inventory = read_inventory(invfile)\n",
    "# inventory.plot(label=False)\n",
    "# fig = inventory.plot('local')\n",
    "#------------------------------------------#"
   ]
  },
  {
   "cell_type": "markdown",
   "metadata": {},
   "source": [
    "Next, the catalog of earthquake events within the period of interest and of defined source charateristics is downloaded from appropriate data center."
   ]
  },
  {
   "cell_type": "code",
   "execution_count": 11,
   "metadata": {},
   "outputs": [],
   "source": [
    "# Download event catalog\n",
    "stacomp= Network + '.' + staname + '..BHZ'\n",
    "coords = inventory.get_coordinates(stacomp)\n",
    "lonlat = (coords['longitude'], coords['latitude'])\n",
    "long=lonlat[0]\n",
    "lat=lonlat[1]\n",
    "if not os.path.exists(catfile):\n",
    "    client = Client(EventClient)\n",
    "    kwargs = {'starttime': UTC(StartDate), 'endtime': UTC(EndDate),\n",
    "              'latitude': lonlat[1], 'longitude': lonlat[0],\n",
    "              'minradius': 30, 'maxradius': 95,\n",
    "              'minmagnitude': 6, 'maxmagnitude': 10}\n",
    "    catalog = client.get_events(**kwargs)\n",
    "\n",
    "    catalog.write(catfile, 'QUAKEML')\n",
    "catalog = read_events(catfile)\n",
    "# fig = catalog.plot(label=None) "
   ]
  },
  {
   "cell_type": "markdown",
   "metadata": {},
   "source": [
    "The waveform data of the events in the catalog are then downloaded from the appropriate Data Center. The [rf](https://github.com/trichter/rf) preset of length of waveform downloaded for P-receiver function is 50 s before the direct-P wave and 150 s after its arrival."
   ]
  },
  {
   "cell_type": "code",
   "execution_count": 12,
   "metadata": {},
   "outputs": [
    {
     "name": "stdout",
     "output_type": "stream",
     "text": [
      "NL.OPLO.01.BHE | -50.0s - 150.0s onset:2020-02-13T10:45:26.715677Z | 40.0 Hz, 8001 samples | mag:6.9 dist:77.9 baz:25.4 slow:5.52\n",
      "NL.OPLO.01.BHN | -50.0s - 150.0s onset:2020-02-13T10:45:26.715677Z | 40.0 Hz, 8001 samples | mag:6.9 dist:77.9 baz:25.4 slow:5.52\n",
      "NL.OPLO.01.BHZ | -50.0s - 150.0s onset:2020-02-13T10:45:26.715677Z | 40.0 Hz, 8001 samples | mag:6.9 dist:77.9 baz:25.4 slow:5.52\n",
      "NL.OPLO.01.BHE | -50.0s - 150.0s onset:2020-05-15T11:15:28.342598Z | 40.0 Hz, 8001 samples | mag:6.4 dist:77.6 baz:317.9 slow:5.58\n",
      "NL.OPLO.01.BHN | -50.0s - 150.0s onset:2020-05-15T11:15:28.342598Z | 40.0 Hz, 8001 samples | mag:6.4 dist:77.6 baz:317.9 slow:5.58\n",
      "NL.OPLO.01.BHZ | -50.0s - 150.0s onset:2020-05-15T11:15:28.342598Z | 40.0 Hz, 8001 samples | mag:6.4 dist:77.6 baz:317.9 slow:5.58\n",
      "NL.OPLO.01.BHE | -50.0s - 150.0s onset:2020-05-22T08:58:50.247258Z | 40.0 Hz, 8001 samples | mag:6.1 dist:86.2 baz:302.1 slow:4.92\n",
      "NL.OPLO.01.BHN | -50.0s - 150.0s onset:2020-05-22T08:58:50.247258Z | 40.0 Hz, 8001 samples | mag:6.1 dist:86.2 baz:302.1 slow:4.92\n",
      "NL.OPLO.01.BHZ | -50.0s - 150.0s onset:2020-05-22T08:58:50.247258Z | 40.0 Hz, 8001 samples | mag:6.1 dist:86.2 baz:302.1 slow:4.92\n",
      "NL.OPLO.01.BHE | -50.0s - 150.0s onset:2020-06-23T15:41:37.927023Z | 40.0 Hz, 8001 samples | mag:7.4 dist:84.4 baz:289.1 slow:5.06\n",
      "NL.OPLO.01.BHN | -50.0s - 150.0s onset:2020-06-23T15:41:37.927023Z | 40.0 Hz, 8001 samples | mag:7.4 dist:84.4 baz:289.1 slow:5.06\n",
      "NL.OPLO.01.BHZ | -50.0s - 150.0s onset:2020-06-23T15:41:37.927023Z | 40.0 Hz, 8001 samples | mag:7.4 dist:84.4 baz:289.1 slow:5.06\n",
      "NL.OPLO.01.BHE | -50.0s - 150.0s onset:2020-06-25T21:14:51.503024Z | 40.0 Hz, 8001 samples | mag:6.3 dist:55.2 baz:74.8 slow:7.22\n",
      "NL.OPLO.01.BHN | -50.0s - 150.0s onset:2020-06-25T21:14:51.503024Z | 40.0 Hz, 8001 samples | mag:6.3 dist:55.2 baz:74.8 slow:7.22\n",
      "NL.OPLO.01.BHZ | -50.0s - 150.0s onset:2020-06-25T21:14:51.503024Z | 40.0 Hz, 8001 samples | mag:6.3 dist:55.2 baz:74.8 slow:7.22\n",
      "NL.OPLO.01.BHE | -50.0s - 150.0s onset:2020-07-17T14:15:54.165146Z | 40.0 Hz, 8001 samples | mag:6.1 dist:80.4 baz:83.0 slow:5.37\n",
      "NL.OPLO.01.BHN | -50.0s - 150.0s onset:2020-07-17T14:15:54.165146Z | 40.0 Hz, 8001 samples | mag:6.1 dist:80.4 baz:83.0 slow:5.37\n",
      "NL.OPLO.01.BHZ | -50.0s - 150.0s onset:2020-07-17T14:15:54.165146Z | 40.0 Hz, 8001 samples | mag:6.1 dist:80.4 baz:83.0 slow:5.37\n",
      "NL.OPLO.01.BHE | -50.0s - 150.0s onset:2020-07-22T06:24:11.005307Z | 40.0 Hz, 8001 samples | mag:7.8 dist:72.7 baz:350.8 slow:5.94\n",
      "NL.OPLO.01.BHN | -50.0s - 150.0s onset:2020-07-22T06:24:11.005307Z | 40.0 Hz, 8001 samples | mag:7.8 dist:72.7 baz:350.8 slow:5.94\n",
      "NL.OPLO.01.BHZ | -50.0s - 150.0s onset:2020-07-22T06:24:11.005307Z | 40.0 Hz, 8001 samples | mag:7.8 dist:72.7 baz:350.8 slow:5.94\n",
      "NL.OPLO.01.BHE | -50.0s - 150.0s onset:2020-07-22T08:24:53.730080Z | 40.0 Hz, 8001 samples | mag:6.5 dist:72.7 baz:351.3 slow:5.94\n",
      "NL.OPLO.01.BHN | -50.0s - 150.0s onset:2020-07-22T08:24:53.730080Z | 40.0 Hz, 8001 samples | mag:6.5 dist:72.7 baz:351.3 slow:5.94\n",
      "NL.OPLO.01.BHZ | -50.0s - 150.0s onset:2020-07-22T08:24:53.730080Z | 40.0 Hz, 8001 samples | mag:6.5 dist:72.7 baz:351.3 slow:5.94\n",
      "NL.OPLO.01.BHE | -50.0s - 150.0s onset:2020-07-22T20:17:22.934238Z | 40.0 Hz, 8001 samples | mag:6.4 dist:59.5 baz:74.0 slow:6.91\n",
      "NL.OPLO.01.BHN | -50.0s - 150.0s onset:2020-07-22T20:17:22.934238Z | 40.0 Hz, 8001 samples | mag:6.4 dist:59.5 baz:74.0 slow:6.91\n",
      "NL.OPLO.01.BHZ | -50.0s - 150.0s onset:2020-07-22T20:17:22.934238Z | 40.0 Hz, 8001 samples | mag:6.4 dist:59.5 baz:74.0 slow:6.91\n",
      "NL.OPLO.01.BHE | -50.0s - 150.0s onset:2020-07-28T08:15:11.204469Z | 40.0 Hz, 8001 samples | mag:6.1 dist:73.3 baz:352.3 slow:5.90\n",
      "NL.OPLO.01.BHN | -50.0s - 150.0s onset:2020-07-28T08:15:11.204469Z | 40.0 Hz, 8001 samples | mag:6.1 dist:73.3 baz:352.3 slow:5.90\n",
      "NL.OPLO.01.BHZ | -50.0s - 150.0s onset:2020-07-28T08:15:11.204469Z | 40.0 Hz, 8001 samples | mag:6.1 dist:73.3 baz:352.3 slow:5.90\n",
      "NL.OPLO.01.BHE | -50.0s - 150.0s onset:2020-08-24T22:03:31.075389Z | 40.0 Hz, 8001 samples | mag:6.1 dist:82.6 baz:276.5 slow:5.19\n",
      "NL.OPLO.01.BHN | -50.0s - 150.0s onset:2020-08-24T22:03:31.075389Z | 40.0 Hz, 8001 samples | mag:6.1 dist:82.6 baz:276.5 slow:5.19\n",
      "NL.OPLO.01.BHZ | -50.0s - 150.0s onset:2020-08-24T22:03:31.075389Z | 40.0 Hz, 8001 samples | mag:6.1 dist:82.6 baz:276.5 slow:5.19\n",
      "Number of Events: 11.0 events\n"
     ]
    }
   ],
   "source": [
    "#------------------------------------------#\n",
    "# Get the data \n",
    "if not os.path.exists(datafile):\n",
    "    client = Client(DataClient)\n",
    "    stream = RFStream()\n",
    "    with tqdm() as pbar:\n",
    "        for s in iter_event_data(catalog, inventory, client.get_waveforms, pbar=pbar):\n",
    "            stream.extend(s)\n",
    "    stream.write(datafile, 'H5')  \n",
    "#%%\n",
    "eqdata = read_rf(datafile)\n",
    "for i in eqdata: \n",
    "    print(i)\n",
    "print(\"Number of Events:\", len(eqdata)/3, 'events')\n",
    "# %%\n"
   ]
  }
 ],
 "metadata": {
  "kernelspec": {
   "display_name": "glopsi",
   "language": "python",
   "name": "python3"
  },
  "language_info": {
   "codemirror_mode": {
    "name": "ipython",
    "version": 3
   },
   "file_extension": ".py",
   "mimetype": "text/x-python",
   "name": "python",
   "nbconvert_exporter": "python",
   "pygments_lexer": "ipython3",
   "version": "3.9.0"
  }
 },
 "nbformat": 4,
 "nbformat_minor": 2
}
