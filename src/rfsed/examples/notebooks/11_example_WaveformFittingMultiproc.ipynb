{
 "cells": [
  {
   "cell_type": "markdown",
   "metadata": {},
   "source": [
    "# Waveform Fitting of Receiver Functions\n",
    "# (Using Multiple Processors)\n",
    "\n",
    "This notebook demonstrates waveform fitting of receiver function to retrieve Moho structure based on [rfsed](https://github.com/akinremisa/rfsed) package\n",
    "\n",
    "The required functions are first imported "
   ]
  },
  {
   "cell_type": "code",
   "execution_count": null,
   "metadata": {},
   "outputs": [],
   "source": [
    "#%% Example of Waveform Fitting with Multiprocessor\n",
    "import os\n",
    "import numpy as np\n",
    "from rfsed.rf import read_rf\n",
    "from rfsed.WaveformFittingMultiproc import WaveformPara, run_waveformfitting, plotbestmodel\n",
    "from rfsed.util import rfMoho_example, rfSed_example, save_plot"
   ]
  },
  {
   "cell_type": "markdown",
   "metadata": {},
   "source": [
    "The receiver function data is defined and the Moho parameters. The waveform fitting analysis is performed and the results visualised"
   ]
  },
  {
   "cell_type": "code",
   "execution_count": null,
   "metadata": {},
   "outputs": [],
   "source": [
    "#----------------------------------------------------------\n",
    "savedir=save_plot()\n",
    "savepath = savedir + '/WaveformFittingMultiproc/'\n",
    "if not os.path.exists(savepath):  # create data folder if necessary\n",
    "    os.mkdir(savepath)\n",
    "\n",
    "rfstream= rfMoho_example()\n",
    "VpSed=3.3\n",
    "Sedthick=1.8\n",
    "VpCrust = 6.9\n",
    "gauparameter=1.25\n",
    "KMoho= np.linspace(1.65,1.95,121)\n",
    "HMoho=np.linspace(20,60,201)\n",
    "# KMoho= np.linspace(1.65,1.95,5)\n",
    "# HMoho=np.linspace(20,60,5)\n",
    "rayp=0.04\n",
    "delta = rfstream[0].stats.delta\n",
    "wtCorr=0.5\n",
    "wtRMSE=0.3\n",
    "wtPG=0.2\n",
    "format='pdf'\n",
    "nproc=30\n",
    "ModelParams=WaveformPara(rfstream, Sedthick, VpSed, VpCrust, rayp, KMoho, HMoho, gauparameter)\n",
    "Results=run_waveformfitting(nproc, HMoho, ModelParams)\n",
    "plotbestmodel(Results, ModelParams, wtCorr, wtRMSE, wtPG, savepath, format)"
   ]
  }
 ],
 "metadata": {
  "language_info": {
   "name": "python"
  }
 },
 "nbformat": 4,
 "nbformat_minor": 2
}
