{
 "cells": [
  {
   "cell_type": "code",
   "execution_count": null,
   "metadata": {},
   "outputs": [],
   "source": [
    "#%% Example of Waveform Fitting \n",
    "import os \n",
    "from os.path import exists\n",
    "from os import mkdir\n",
    "import numpy as np\n",
    "from glob import glob\n",
    "from rfsed.rf import read_rf, RFStream\n",
    "from rfsed.WaveformFitting import WaveformFitting, PlotWaveformFitting    \n",
    "from rfsed.util import rfMoho_example, rfSed_example, save_plot\n"
   ]
  },
  {
   "cell_type": "code",
   "execution_count": null,
   "metadata": {},
   "outputs": [],
   "source": [
    "#----------------------------------------------------------\n",
    "savedir=save_plot()\n",
    "savepath = savedir + '/WaveformFitting/'\n",
    "if not os.path.exists(savepath):  # create data folder if necessary\n",
    "    os.mkdir(savepath)\n",
    "\n",
    "rfstream= rfMoho_example()\n",
    "VpSed=2.2\n",
    "HSed=0.1\n",
    "VpCrust = 6.9\n",
    "gaussian=1.25\n",
    "rayp=0.04\n",
    "KMoho= np.linspace(1.65,1.95,121)\n",
    "HMoho=np.linspace(20,60,201)\n",
    "# KMoho= np.linspace(1.65,1.95,5)\n",
    "# HMoho=np.linspace(20,60,5)\n",
    "wtCorr, wtRMSE, wtPG = [0.5, 0.3, 0.2] #wtCorr+wtRMSE+wtPG=1.0\n",
    "format='pdf'\n",
    "FittingResult = WaveformFitting(rfstream, HSed, VpSed, VpCrust, rayp, KMoho, HMoho, \n",
    "                     gaussian, wtCorr, wtRMSE, wtPG, savepath, format)"
   ]
  },
  {
   "cell_type": "code",
   "execution_count": null,
   "metadata": {},
   "outputs": [],
   "source": [
    "\n",
    "#%%\n",
    "PlotWaveformFitting(FittingResult, wtCorr, wtRMSE, wtPG, savepath, format)"
   ]
  }
 ],
 "metadata": {
  "language_info": {
   "name": "python"
  }
 },
 "nbformat": 4,
 "nbformat_minor": 2
}
