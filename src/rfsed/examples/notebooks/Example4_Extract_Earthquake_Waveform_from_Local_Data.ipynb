{
 "cells": [
  {
   "cell_type": "markdown",
   "metadata": {},
   "source": [
    "# Example of Extracting Earthquake Waveform Data from seismic data from local drive\n",
    "\n",
    "This notebook demonstrates the process of extracting the earthquake waveform data from seismic data stored in a local drive\n",
    "The ExtractEq module in [rfsed](https://github.com/akinremisa/rfsed) package is used to extract the waveform data. In this case, a single processor is used."
   ]
  },
  {
   "cell_type": "markdown",
   "metadata": {},
   "source": [
    "The required functions are first imported "
   ]
  },
  {
   "cell_type": "code",
   "execution_count": 1,
   "metadata": {},
   "outputs": [],
   "source": [
    "# %% Example of extracting earthquake data waveform from local files\n",
    "from obspy import read\n",
    "from os.path import exists\n",
    "from os import mkdir\n",
    "from rfsed.ExtractEq import ExtractEq\n",
    "from rfsed.util import catalog_example, raw_data_example, save_Eq_data"
   ]
  },
  {
   "cell_type": "markdown",
   "metadata": {},
   "source": [
    "The station parameters, catalog of events, savepath and output file name are defined."
   ]
  },
  {
   "cell_type": "code",
   "execution_count": 2,
   "metadata": {},
   "outputs": [
    {
     "name": "stdout",
     "output_type": "stream",
     "text": [
      "/home/deepnl/rfsed_review_second/src/rfsed/data/Raw_Data_DeepNL_Groningen/\n"
     ]
    }
   ],
   "source": [
    "staname='OPLO'\n",
    "stalat=51.5888 \n",
    "stalon=5.8121\n",
    "datapath= raw_data_example()\n",
    "print(datapath)\n",
    "savedir=save_Eq_data()\n",
    "savepath=savedir+'/Extracted_Eq_Data/'\n",
    "if not exists(savepath):\n",
    "    mkdir(savepath)\n",
    "filename = savepath + 'eq_data.h5'\n",
    "catalog = catalog_example()\n"
   ]
  },
  {
   "cell_type": "markdown",
   "metadata": {},
   "source": [
    "The length of the waveform per earthquake is set (relative to the direct-P wave arrival)\n",
    "\n",
    "Then, the waveform are extracted and saved"
   ]
  },
  {
   "cell_type": "code",
   "execution_count": 3,
   "metadata": {},
   "outputs": [],
   "source": [
    "Request_window=[-50, 150] #Time relative to first P arrival in seconds\n",
    "ExtractData= ExtractEq(datapath, filename, catalog, stalat, stalon, Request_window)"
   ]
  },
  {
   "cell_type": "markdown",
   "metadata": {},
   "source": [
    "The extracted and saved data is read and displayed to check the content of the data"
   ]
  },
  {
   "cell_type": "code",
   "execution_count": 4,
   "metadata": {},
   "outputs": [
    {
     "name": "stdout",
     "output_type": "stream",
     "text": [
      "6  traces in the extracted data\n",
      "6 Trace(s) in Stream:\n",
      "NL.OPLO.01.BHE | 2020-02-13T10:44:35.369538Z - 2020-02-13T10:47:55.369538Z | 40.0 Hz, 8001 samples\n",
      "NL.OPLO.01.BHN | 2020-02-13T10:44:35.369539Z - 2020-02-13T10:47:55.369539Z | 40.0 Hz, 8001 samples\n",
      "NL.OPLO.01.BHZ | 2020-02-13T10:44:35.369539Z - 2020-02-13T10:47:55.369539Z | 40.0 Hz, 8001 samples\n",
      "NL.OPLO.01.BHE | 2020-05-15T11:14:35.169539Z - 2020-05-15T11:17:55.169539Z | 40.0 Hz, 8001 samples\n",
      "NL.OPLO.01.BHN | 2020-05-15T11:14:35.169538Z - 2020-05-15T11:17:55.169538Z | 40.0 Hz, 8001 samples\n",
      "NL.OPLO.01.BHZ | 2020-05-15T11:14:35.169538Z - 2020-05-15T11:17:55.169538Z | 40.0 Hz, 8001 samples\n"
     ]
    }
   ],
   "source": [
    "#%% Check the extracted data\n",
    "ExtractedEQ_Data=read(filename)\n",
    "print(len(ExtractedEQ_Data), ' traces in the extracted data')\n",
    "print(ExtractedEQ_Data)"
   ]
  }
 ],
 "metadata": {
  "kernelspec": {
   "display_name": "rfsed",
   "language": "python",
   "name": "python3"
  },
  "language_info": {
   "codemirror_mode": {
    "name": "ipython",
    "version": 3
   },
   "file_extension": ".py",
   "mimetype": "text/x-python",
   "name": "python",
   "nbconvert_exporter": "python",
   "pygments_lexer": "ipython3",
   "version": "3.9.19"
  }
 },
 "nbformat": 4,
 "nbformat_minor": 2
}
