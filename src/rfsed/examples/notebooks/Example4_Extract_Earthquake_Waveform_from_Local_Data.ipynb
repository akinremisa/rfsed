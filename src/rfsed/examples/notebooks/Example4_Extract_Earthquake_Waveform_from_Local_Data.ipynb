{
 "cells": [
  {
   "cell_type": "markdown",
   "metadata": {},
   "source": [
    "# Example of Extracting Earthquake Waveform Data from seismic data from local drive\n",
    "\n",
    "This notebook demonstrates the process of extracting the earthquake waveform data from seismic data stored in a local drive\n",
    "The ExtractEq module in [rfsed](https://github.com/akinremisa/rfsed) package is used to extract the waveform data. In this case, a single processor is used."
   ]
  },
  {
   "cell_type": "markdown",
   "metadata": {},
   "source": [
    "The required functions are first imported "
   ]
  },
  {
   "cell_type": "code",
   "execution_count": 1,
   "metadata": {},
   "outputs": [],
   "source": [
    "# %% Example of extracting earthquake data waveform from local files\n",
    "import os\n",
    "from obspy import read\n",
    "from os.path import exists\n",
    "from os import mkdir\n",
    "from rfsed.ExtractEq import ExtractEq\n",
    "from rfsed.util import catalog_example, raw_data_example, save_Eq_data"
   ]
  },
  {
   "cell_type": "markdown",
   "metadata": {},
   "source": [
    "The station parameters, catalog of events, savepath and output file name are defined."
   ]
  },
  {
   "cell_type": "code",
   "execution_count": 2,
   "metadata": {},
   "outputs": [],
   "source": [
    "staname='NE301'\n",
    "stalat=6.183432\n",
    "stalon=53.48334\n",
    "datapath= raw_data_example()\n",
    "savedir=save_Eq_data()\n",
    "savepath=savedir+'/Extracted_Eq_Data/'\n",
    "if not exists(savepath):\n",
    "    mkdir(savepath)\n",
    "filename = savepath + 'eq_data.h5'\n",
    "catalog = catalog_example()\n"
   ]
  },
  {
   "cell_type": "markdown",
   "metadata": {},
   "source": [
    "The length of the waveform per earthquake is set (relative to the direct-P wave arrival)\n",
    "\n",
    "Then, the waveform are extracted and saved"
   ]
  },
  {
   "cell_type": "code",
   "execution_count": 3,
   "metadata": {},
   "outputs": [],
   "source": [
    "Request_window=[-50, 150] #Time relative to first P arrival in seconds\n",
    "ExtractData= ExtractEq(datapath, filename, catalog, stalat, stalon, Request_window)"
   ]
  },
  {
   "cell_type": "markdown",
   "metadata": {},
   "source": [
    "The extracted and saved data is read and displayed to check the content of the data"
   ]
  },
  {
   "cell_type": "code",
   "execution_count": 4,
   "metadata": {},
   "outputs": [
    {
     "name": "stdout",
     "output_type": "stream",
     "text": [
      "24  traces in the extracted data\n",
      "24 Trace(s) in Stream:\n",
      "\n",
      "NR.NE301..HHZ | 2022-03-06T20:26:36.120000Z - 2022-03-06T20:29:56.120000Z | 100.0 Hz, 20001 samples\n",
      "...\n",
      "(22 other traces)\n",
      "...\n",
      "NR.NE301..LHE | 2022-03-13T21:15:40.000000Z - 2022-03-13T21:19:00.000000Z | 1.0 Hz, 201 samples\n",
      "\n",
      "[Use \"print(Stream.__str__(extended=True))\" to print all Traces]\n"
     ]
    }
   ],
   "source": [
    "#%% Check the extracted data\n",
    "ExtractedEQ_Data=read(filename)\n",
    "print(len(ExtractedEQ_Data), ' traces in the extracted data')\n",
    "print(ExtractedEQ_Data)"
   ]
  }
 ],
 "metadata": {
  "kernelspec": {
   "display_name": "rfsed",
   "language": "python",
   "name": "python3"
  },
  "language_info": {
   "codemirror_mode": {
    "name": "ipython",
    "version": 3
   },
   "file_extension": ".py",
   "mimetype": "text/x-python",
   "name": "python",
   "nbconvert_exporter": "python",
   "pygments_lexer": "ipython3",
   "version": "3.9.0"
  }
 },
 "nbformat": 4,
 "nbformat_minor": 2
}
