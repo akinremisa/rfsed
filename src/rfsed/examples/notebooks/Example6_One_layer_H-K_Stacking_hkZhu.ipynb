{
 "cells": [
  {
   "cell_type": "markdown",
   "metadata": {},
   "source": [
    "# Examples of H-K Stacking of Receiver Functions\n",
    "\n",
    "This notebook demonstrates the H-K Stacking analysis of receiver functions and the visualisation of the results based on [rfsed](https://github.com/akinremisa/rfsed) package\n"
   ]
  },
  {
   "cell_type": "markdown",
   "metadata": {},
   "source": [
    "The required functions are first imported"
   ]
  },
  {
   "cell_type": "code",
   "execution_count": null,
   "metadata": {},
   "outputs": [],
   "source": [
    "import os \n",
    "import numpy as np\n",
    "from rf.rfstream import read_rf\n",
    "from rfsed.hkZhu import hk, plothk\n",
    "import h5py\n",
    "from obspy import read\n",
    "from rfsed.util import rfMoho_example, rfSed_example, save_plot"
   ]
  },
  {
   "cell_type": "markdown",
   "metadata": {},
   "source": [
    "The station and the directory to save the output are defined. "
   ]
  },
  {
   "cell_type": "code",
   "execution_count": null,
   "metadata": {},
   "outputs": [],
   "source": [
    "staname='OPLO'\n",
    "savedir=save_plot()\n",
    "savepath = savedir + '/HK_Stacking_Zhu/'\n",
    "if not os.path.exists(savepath):  # create data folder if necessary\n",
    "    os.mkdir(savepath)\n",
    "#----------------------------------------------------------"
   ]
  },
  {
   "cell_type": "markdown",
   "metadata": {},
   "source": [
    "## Example of H-K Stacking for Crustal Layer"
   ]
  },
  {
   "cell_type": "markdown",
   "metadata": {},
   "source": [
    "For H-K Stacking for crustal thickness (Moho depth), low frequency receiver functions are used."
   ]
  },
  {
   "cell_type": "markdown",
   "metadata": {},
   "source": [
    "H-K Stacking weighting and the grid search (the Depth (H) and Vp/Vs (K)) parameters are set"
   ]
  },
  {
   "cell_type": "markdown",
   "metadata": {},
   "source": [
    "In this example, the data used is from Station OPLO (Network: NL) in the Netherlands. It is located on thick sedimentary layers. The sediment effects observed include an apparent shift in the first peak due to arrivals from the sediment-basement interface. Also, some amplitude interference is observed in the Moho conversion signal due to the arrivals of the sediment reverberation phases. Hence, the effects of the sediment on the receiver function leads to poor estimation of the crustal thickness and Vp/Vs while using the One-Crustal layer H-K Stacking method."
   ]
  },
  {
   "cell_type": "code",
   "execution_count": null,
   "metadata": {},
   "outputs": [],
   "source": [
    "w1, w2, w3 = [0.4, 0.3, 0.3]\n",
    "K= np.linspace(1.65,1.95,121)\n",
    "H=np.linspace(20,60,201)"
   ]
  },
  {
   "cell_type": "markdown",
   "metadata": {},
   "source": [
    "The receiver function data is read and  data parameters like preonset (time before direct P-wave in the data) and Vp of the crust are defined"
   ]
  },
  {
   "cell_type": "code",
   "execution_count": null,
   "metadata": {},
   "outputs": [],
   "source": [
    "rfst = rfMoho_example()\n",
    "rfstreams = rfst.select(component='R', station=staname)\n",
    "preonset=10\n",
    "Vp=6.9"
   ]
  },
  {
   "cell_type": "markdown",
   "metadata": {},
   "source": [
    "The H-K stacking is done and the results are visualised for the case of Moho structure using low frequency receiver functions"
   ]
  },
  {
   "cell_type": "code",
   "execution_count": null,
   "metadata": {},
   "outputs": [],
   "source": [
    "Result=hk(rfstreams, preonset, layer='Moho', stack=True, w1 = w1, w2 = w2, w3 = w3, K= K, H=H, Vp = Vp)\n",
    "plothk(HKResult=Result, g = [75.,10., 15., 2.5], rmneg = None, savepath=savepath, format = 'jpg')"
   ]
  },
  {
   "cell_type": "markdown",
   "metadata": {},
   "source": [
    "## Example of H-K Stacking for Sediment Layer"
   ]
  },
  {
   "cell_type": "markdown",
   "metadata": {},
   "source": [
    "For H-K Stacking for sediment layer, high frequency receiver functions are used."
   ]
  },
  {
   "cell_type": "markdown",
   "metadata": {},
   "source": [
    "H-K Stacking weighting and the grid search (the Depth (H) and Vp/Vs (K)) parameters are set"
   ]
  },
  {
   "cell_type": "code",
   "execution_count": null,
   "metadata": {},
   "outputs": [],
   "source": [
    "w1, w2, w3 = [0.3, 0.4, 0.3]\n",
    "K= np.linspace(1.65,2.25,201)\n",
    "H=np.linspace(0,10,201)"
   ]
  },
  {
   "cell_type": "markdown",
   "metadata": {},
   "source": [
    "The receiver function data is read and  data parameters like preonset (time before direct P-wave in the data) and Vp of the crust are defined"
   ]
  },
  {
   "cell_type": "code",
   "execution_count": null,
   "metadata": {},
   "outputs": [],
   "source": [
    "rfst = rfSed_example()\n",
    "rfstreams = rfst.select(component='R', station=staname)\n",
    "preonset=10\n",
    "Vp=3.3"
   ]
  },
  {
   "cell_type": "markdown",
   "metadata": {},
   "source": [
    "The H-K stacking is done and the results are visualised for the case of Moho structure using high frequency receiver functions"
   ]
  },
  {
   "cell_type": "code",
   "execution_count": null,
   "metadata": {},
   "outputs": [],
   "source": [
    "Result=hk(rfstreams, preonset, layer='Sed', stack=False, w1 = w1, w2 = w2, w3 = w3, K= K, H=H, Vp = Vp)\n",
    "plothk(HKResult=Result, g = [75.,10., 15., 2.5], rmneg = None, savepath=savepath, format = 'jpg')"
   ]
  }
 ],
 "metadata": {
  "kernelspec": {
   "display_name": "rftest",
   "language": "python",
   "name": "python3"
  },
  "language_info": {
   "codemirror_mode": {
    "name": "ipython",
    "version": 3
   },
   "file_extension": ".py",
   "mimetype": "text/x-python",
   "name": "python",
   "nbconvert_exporter": "python",
   "pygments_lexer": "ipython3",
   "version": "3.9.19"
  }
 },
 "nbformat": 4,
 "nbformat_minor": 2
}
