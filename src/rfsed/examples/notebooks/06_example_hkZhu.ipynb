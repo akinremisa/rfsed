{
 "cells": [
  {
   "cell_type": "code",
   "execution_count": null,
   "metadata": {},
   "outputs": [],
   "source": [
    "#%% Example of HK stacking\n",
    "import os \n",
    "import numpy as np\n",
    "from rfsed.rf.rfstream import read_rf\n",
    "from rfsed.hkZhu import hk, plothk\n",
    "import h5py, h5\n",
    "from obspy import read\n",
    "from rfsed.util import rfMoho_example, rfSed_example, save_plot\n",
    "staname='OPLO'\n",
    "w1, w2, w3 = [0.6, 0.3, 0.1]\n",
    "savedir=save_plot()\n",
    "savepath = savedir + '/HK_Stacking_Zhu/'\n",
    "if not os.path.exists(savepath):  # create data folder if necessary\n",
    "    os.mkdir(savepath)\n",
    "#----------------------------------------------------------"
   ]
  },
  {
   "cell_type": "code",
   "execution_count": null,
   "metadata": {},
   "outputs": [],
   "source": [
    "#%% Moho Example \n",
    "rfst = rfMoho_example()\n",
    "rfstreams = rfst.select(component='R', station=staname)\n",
    "K= np.linspace(1.65,1.95,121)\n",
    "H=np.linspace(20,60,201)\n",
    "Vp=6.9\n",
    "Result=hk(rfstreams, layer='Moho', stack=True, w1 = w1, w2 = w2, w3 = w3, K= K, H=H, Vp = Vp)\n",
    "# Result=hk(rfstreams, layer='Moho', stack=False, w1 = w1, w2 = w2, w3 = w3, K= K, H=H, Vp = Vp)\n",
    "plothk(HKResult=Result, g = [75.,10., 15., 2.5], rmneg = None, savepath=savepath, format = 'jpg')"
   ]
  },
  {
   "cell_type": "code",
   "execution_count": null,
   "metadata": {},
   "outputs": [],
   "source": [
    "#%% Sediment Example\n",
    "rfst = rfSed_example()\n",
    "rfstreams = rfst.select(component='R', station=staname)\n",
    "K= np.linspace(1.65,2.25,201)\n",
    "H=np.linspace(0,10,201)\n",
    "Vp=2.5\n",
    "Result=hk(rfstreams, layer='Sed', stack=False, w1 = w1, w2 = w2, w3 = w3, K= K, H=H, Vp = Vp)\n",
    "# Result=hk(rfstreams, layer='Sed', stack=True, w1 = w1, w2 = w2, w3 = w3, K= K, H=H, Vp = Vp)\n",
    "plothk(HKResult=Result, g = [75.,10., 15., 2.5], rmneg = None, savepath=savepath, format = 'jpg')"
   ]
  }
 ],
 "metadata": {
  "language_info": {
   "name": "python"
  }
 },
 "nbformat": 4,
 "nbformat_minor": 2
}
