{
 "cells": [
  {
   "cell_type": "markdown",
   "metadata": {},
   "source": [
    "# Example of Sequential H-K Stacking of Receiver Functions\n",
    "\n",
    "This notebook demonstrates the Sequential H-K Stacking analysis of receiver functions and the visualisation of the results based on [rfsed](https://github.com/akinremisa/rfsed) package\n",
    "\n",
    "In the first step, the sediment layer thickness and Vp/Vs are stacked for using high frequency receiver function. In the second step, the sediment thickness and velocity are then used to correct for the time delay in the Moho phases due to the presence of the sediment."
   ]
  },
  {
   "cell_type": "markdown",
   "metadata": {},
   "source": [
    "The required functions are first imported"
   ]
  },
  {
   "cell_type": "code",
   "execution_count": null,
   "metadata": {},
   "outputs": [],
   "source": [
    "import os \n",
    "import numpy as np\n",
    "from rf.rfstream import read_rf\n",
    "from rfsed.hkSeqYeck import hkSeq, plotSeqhk\n",
    "from rfsed.util import rfMoho_example, rfSed_example, save_plot"
   ]
  },
  {
   "cell_type": "markdown",
   "metadata": {},
   "source": [
    "The station and the directory to save the output are defined. "
   ]
  },
  {
   "cell_type": "code",
   "execution_count": null,
   "metadata": {},
   "outputs": [],
   "source": [
    "staname='OPLO'\n",
    "savedir=save_plot()\n",
    "savepath = savedir + '/HK_Sequential_Yeck/'\n",
    "if not os.path.exists(savepath):  # create data folder if necessary\n",
    "    os.mkdir(savepath)"
   ]
  },
  {
   "cell_type": "markdown",
   "metadata": {},
   "source": [
    "The sediment layer H-K Stacking parameters and the high frequency reciever functions data are defined"
   ]
  },
  {
   "cell_type": "code",
   "execution_count": null,
   "metadata": {},
   "outputs": [],
   "source": [
    "#----------------------------------------------------------\n",
    "# Sediment Parameters\n",
    "w1Sed, w2Sed, w3Sed = [0.6, 0.3, 0.1]\n",
    "KSed= np.linspace(1.65,2.25,201)\n",
    "HSed=np.linspace(0,10,201)\n",
    "rfstSed = rfSed_example()\n",
    "rfstreamSed = rfstSed.select(component='R', station=staname)\n",
    "preonset=10\n",
    "VpSed=2.5"
   ]
  },
  {
   "cell_type": "markdown",
   "metadata": {},
   "source": [
    "The Moho layer H-K Stacking Parameters and the low frequency reciever functions data are defined "
   ]
  },
  {
   "cell_type": "code",
   "execution_count": null,
   "metadata": {},
   "outputs": [],
   "source": [
    "#----------------------------------------------------------\n",
    "# Moho Parameters\n",
    "w1Moho, w2Moho, w3Moho = [0.6, 0.3, 0.1]\n",
    "KMoho= np.linspace(1.65,1.95,121)\n",
    "HMoho=np.linspace(20,60,201)\n",
    "rfstMoho = rfMoho_example()\n",
    "rfstreamMoho = rfstMoho.select(component='R', station=staname)\n",
    "preonset=10\n",
    "VpMoho=6.9\n",
    "#----------------------------------------------------------"
   ]
  },
  {
   "cell_type": "markdown",
   "metadata": {},
   "source": [
    "The first and second steps of the Sequential H-K stacking are done in the SequentialHKResult function: \n",
    "\n",
    "The result are then visualised and saved to the save directory"
   ]
  },
  {
   "cell_type": "code",
   "execution_count": null,
   "metadata": {},
   "outputs": [],
   "source": [
    "SequentialHKResult = hkSeq(rfstreamSed, rfstreamMoho, preonset, w1Sed = w1Sed, w2Sed = w2Sed, w3Sed=w3Sed, KSed=KSed, \n",
    "                           HSed=HSed, VpSed=VpSed, w1Moho = w1Moho, w2Moho = w2Moho, w3Moho=w3Moho, KMoho=KMoho, \n",
    "                            HMoho=HMoho, VpMoho=VpMoho, stack = False)\n",
    "plotSeqhk(SequentialHKResult=SequentialHKResult, g = [75.,10., 15., 2.5], rmneg = None, savepath=savepath, format = 'jpg')"
   ]
  },
  {
   "cell_type": "markdown",
   "metadata": {},
   "source": [
    "In this case, the receiver functions with different ray parameters are stacked before performing the Sequential H-K Stacking analysis, use the stack option as below"
   ]
  },
  {
   "cell_type": "code",
   "execution_count": null,
   "metadata": {},
   "outputs": [],
   "source": [
    "# Stacked RF Example\n",
    "# SequentialHKResult = hkSeq(rfstreamSed, rfstreamMoho, preonset, w1Sed = w1Sed, w1Moho = w1Moho, w2Moho = w2Moho, w3Moho=w3Moho, \n",
    "#                            KMoho=KMoho, HMoho=HMoho, VpMoho=VpMoho, stack = True)\n",
    "# plotSeqhk(SequentialHKResult=SequentialHKResult, g = [75.,10., 15., 2.5], rmneg = None, savepath=savepath, format = 'jpg')"
   ]
  }
 ],
 "metadata": {
  "language_info": {
   "name": "python"
  }
 },
 "nbformat": 4,
 "nbformat_minor": 2
}
