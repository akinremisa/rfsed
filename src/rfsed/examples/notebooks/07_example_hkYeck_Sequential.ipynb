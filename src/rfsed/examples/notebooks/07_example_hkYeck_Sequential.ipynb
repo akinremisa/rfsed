{
 "cells": [
  {
   "cell_type": "code",
   "execution_count": null,
   "metadata": {},
   "outputs": [],
   "source": [
    "#%% Example of Sequential Stacking for H-K\n",
    "import os \n",
    "import numpy as np\n",
    "from rfsed.rf.rfstream import read_rf\n",
    "from rfsed.hkSeqYeck import hkSeq, plotSeqhk\n",
    "from rfsed.util import rfMoho_example, rfSed_example, save_plot\n",
    "\n",
    "savedir=save_plot()\n",
    "savepath = savedir + '/HK_Sequential_Yeck/'\n",
    "if not os.path.exists(savepath):  # create data folder if necessary\n",
    "    os.mkdir(savepath)\n",
    "staname='OPLO'"
   ]
  },
  {
   "cell_type": "code",
   "execution_count": null,
   "metadata": {},
   "outputs": [],
   "source": [
    "#----------------------------------------------------------\n",
    "# Sediment Parameters\n",
    "rfstSed = rfSed_example()\n",
    "rfstreamSed = rfstSed.select(component='R', station=staname)\n",
    "KSed= np.linspace(1.65,2.25,201)\n",
    "HSed=np.linspace(0,10,201)\n",
    "VpSed=2.5\n",
    "w1Sed, w2Sed, w3Sed = [0.6, 0.3, 0.1]"
   ]
  },
  {
   "cell_type": "code",
   "execution_count": null,
   "metadata": {},
   "outputs": [],
   "source": [
    "#----------------------------------------------------------\n",
    "# Moho Parameters\n",
    "rfstMoho = rfMoho_example()\n",
    "rfstreamMoho = rfstMoho.select(component='R', station=staname)\n",
    "KMoho= np.linspace(1.65,1.95,121)\n",
    "HMoho=np.linspace(20,60,201)\n",
    "VpMoho=6.9\n",
    "w1Moho, w2Moho, w3Moho = [0.6, 0.3, 0.1]\n",
    "#----------------------------------------------------------\n",
    "SequentialHKResult = hkSeq(rfstreamSed, rfstreamMoho,  w1Sed = w1Sed, \n",
    "             w2Sed = w2Sed, w3Sed=w3Sed, KSed=KSed, HSed=HSed, VpSed=VpSed,\n",
    "             w1Moho = w1Moho, w2Moho = w2Moho, w3Moho=w3Moho, KMoho=KMoho, \n",
    "             HMoho=HMoho, VpMoho=VpMoho, stack = False)\n",
    "plotSeqhk(SequentialHKResult=SequentialHKResult, g = [75.,10., 15., 2.5], \n",
    "          rmneg = None, savepath=savepath, format = 'jpg')"
   ]
  },
  {
   "cell_type": "code",
   "execution_count": null,
   "metadata": {},
   "outputs": [],
   "source": [
    "#%% Stacked RF Example\n",
    "SequentialHKResult = hkSeq(rfstreamSed, rfstreamMoho,  w1Sed = w1Sed, \n",
    "             w2Sed = w2Sed, w3Sed=w3Sed, KSed=KSed, HSed=HSed, VpSed=VpSed,\n",
    "             w1Moho = w1Moho, w2Moho = w2Moho, w3Moho=w3Moho, KMoho=KMoho, \n",
    "             HMoho=HMoho, VpMoho=VpMoho, stack = True)\n",
    "plotSeqhk(SequentialHKResult=SequentialHKResult, g = [75.,10., 15., 2.5], \n",
    "          rmneg = None, savepath=savepath, format = 'jpg')"
   ]
  }
 ],
 "metadata": {
  "language_info": {
   "name": "python"
  }
 },
 "nbformat": 4,
 "nbformat_minor": 2
}
