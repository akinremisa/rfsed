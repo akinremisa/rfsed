{
 "cells": [
  {
   "cell_type": "markdown",
   "metadata": {},
   "source": [
    "# Sequential H-K Stacking of Receiver Functions\n",
    "\n",
    "This notebook demonstrates the Sequential H-K Stacking analysis of receiver functions and the visualisation of the results based on [rfsed](https://github.com/akinremisa/rfsed) package\n",
    "In the first step, the sediment layer thickness and Vp/Vs are stacked for using high frequency receiver function. The sediment thickness and velocity are then used to correct for the time delay in the Moho phases due to the presence of the sediment.\n",
    "The required functions are first imported and the station and H-K Stacking weighting parameters are defined. "
   ]
  },
  {
   "cell_type": "code",
   "execution_count": null,
   "metadata": {},
   "outputs": [],
   "source": [
    "#%% Example of Sequential Stacking for H-K\n",
    "import os \n",
    "import numpy as np\n",
    "from rfsed.rf.rfstream import read_rf\n",
    "from rfsed.hkSeqYeck import hkSeq, plotSeqhk\n",
    "from rfsed.util import rfMoho_example, rfSed_example, save_plot\n",
    "\n",
    "savedir=save_plot()\n",
    "savepath = savedir + '/HK_Sequential_Yeck/'\n",
    "if not os.path.exists(savepath):  # create data folder if necessary\n",
    "    os.mkdir(savepath)\n",
    "staname='OPLO'"
   ]
  },
  {
   "cell_type": "markdown",
   "metadata": {},
   "source": [
    "The sediment layer parameters and the high frequency reciever functions are defined"
   ]
  },
  {
   "cell_type": "code",
   "execution_count": null,
   "metadata": {},
   "outputs": [],
   "source": [
    "#----------------------------------------------------------\n",
    "# Sediment Parameters\n",
    "rfstSed = rfSed_example()\n",
    "rfstreamSed = rfstSed.select(component='R', station=staname)\n",
    "KSed= np.linspace(1.65,2.25,201)\n",
    "HSed=np.linspace(0,10,201)\n",
    "VpSed=2.5\n",
    "w1Sed, w2Sed, w3Sed = [0.6, 0.3, 0.1]"
   ]
  },
  {
   "cell_type": "markdown",
   "metadata": {},
   "source": [
    "The Moho Parameters and the low frequency reciever functions are defined "
   ]
  },
  {
   "cell_type": "code",
   "execution_count": null,
   "metadata": {},
   "outputs": [],
   "source": [
    "#----------------------------------------------------------\n",
    "# Moho Parameters\n",
    "rfstMoho = rfMoho_example()\n",
    "rfstreamMoho = rfstMoho.select(component='R', station=staname)\n",
    "KMoho= np.linspace(1.65,1.95,121)\n",
    "HMoho=np.linspace(20,60,201)\n",
    "VpMoho=6.9\n",
    "w1Moho, w2Moho, w3Moho = [0.6, 0.3, 0.1]\n",
    "#----------------------------------------------------------\n"
   ]
  },
  {
   "cell_type": "markdown",
   "metadata": {},
   "source": [
    "The first and second steps of the Sequential H-K stacking are done in the SequentialHKResult function: \n",
    "\n",
    "*First Step*: H-K Stacking for sediment layer\n",
    "\n",
    "*Second Step*: Modified H-K Stacking for Moho layer using corrected arrival times for the Moho Phases\n",
    "\n",
    "The result are then visualised "
   ]
  },
  {
   "cell_type": "code",
   "execution_count": null,
   "metadata": {},
   "outputs": [],
   "source": [
    "SequentialHKResult = hkSeq(rfstreamSed, rfstreamMoho,  w1Sed = w1Sed, \n",
    "             w2Sed = w2Sed, w3Sed=w3Sed, KSed=KSed, HSed=HSed, VpSed=VpSed,\n",
    "             w1Moho = w1Moho, w2Moho = w2Moho, w3Moho=w3Moho, KMoho=KMoho, \n",
    "             HMoho=HMoho, VpMoho=VpMoho, stack = False)\n",
    "plotSeqhk(SequentialHKResult=SequentialHKResult, g = [75.,10., 15., 2.5], \n",
    "          rmneg = None, savepath=savepath, format = 'jpg')"
   ]
  },
  {
   "cell_type": "markdown",
   "metadata": {},
   "source": [
    "In this case, the receiver functions with different ray parameters are stacked before performing the Sequential H-K Stacking analysis"
   ]
  },
  {
   "cell_type": "code",
   "execution_count": null,
   "metadata": {},
   "outputs": [],
   "source": [
    "#%% Stacked RF Example\n",
    "SequentialHKResult = hkSeq(rfstreamSed, rfstreamMoho,  w1Sed = w1Sed, \n",
    "             w2Sed = w2Sed, w3Sed=w3Sed, KSed=KSed, HSed=HSed, VpSed=VpSed,\n",
    "             w1Moho = w1Moho, w2Moho = w2Moho, w3Moho=w3Moho, KMoho=KMoho, \n",
    "             HMoho=HMoho, VpMoho=VpMoho, stack = True)\n",
    "plotSeqhk(SequentialHKResult=SequentialHKResult, g = [75.,10., 15., 2.5], \n",
    "          rmneg = None, savepath=savepath, format = 'jpg')"
   ]
  }
 ],
 "metadata": {
  "language_info": {
   "name": "python"
  }
 },
 "nbformat": 4,
 "nbformat_minor": 2
}
