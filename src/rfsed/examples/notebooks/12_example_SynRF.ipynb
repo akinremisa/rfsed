{
 "cells": [
  {
   "cell_type": "code",
   "execution_count": null,
   "metadata": {},
   "outputs": [],
   "source": [
    "import numpy as np\n",
    "import os \n",
    "import matplotlib.pyplot as plt\n",
    "from rfsed.SynRF.FwdRF import SynRF\n",
    "from rfsed.util import save_plot\n",
    "depth = np.array([2, 35, 77.5])\n",
    "vp = np.array([2.0, 6.5, 8.045])\n",
    "vs = np.array([1.36, 3.75, 4.485])\n",
    "rho=np.array([2.72, 2.92, 3.3455])\n",
    "delay=5\n",
    "n=2100\n",
    "rayp=0.04\n",
    "gaussian=1.25\n",
    "delta=0.025\n",
    "Synth=SynRF(depth, vp, vs, rho, rayp, dt=delta, npts=n, ipha=1)\n",
    "Synth.run_fwd()\n",
    "Synth.filter(freqmin=0.05, freqmax=1.25, order=2, zerophase=True)\n",
    "rf_synth=Synth.run_deconvolution(pre_filt=[0.05, 1.25], shift=delay, gaussian=gaussian)\n",
    "trdata=(rf_synth[0]).data\n",
    "tlen = len(trdata)\n",
    "t = np.arange(0, tlen)\n",
    "t = (delta *  t) - delay # shift the time axis\n",
    "fig = plt.figure(figsize=(11,8))\n",
    "ax1 = fig.add_subplot(111)\n",
    "ax1.plot(t, trdata, color = 'blue')\n",
    "savedir=save_plot()\n",
    "savepath = savedir + '/Example_SyntheticRF/'\n",
    "if not os.path.exists(savepath):  # create data folder if necessary\n",
    "    os.mkdir(savepath)\n",
    "savepath=savepath + 'SyntheticRF.jpeg'\n",
    "plt.savefig(savepath , format='jpeg', transparent=False,\\\n",
    "            dpi=250, bbox_inches = 'tight', pad_inches=0.1)"
   ]
  }
 ],
 "metadata": {
  "language_info": {
   "name": "python"
  }
 },
 "nbformat": 4,
 "nbformat_minor": 2
}
