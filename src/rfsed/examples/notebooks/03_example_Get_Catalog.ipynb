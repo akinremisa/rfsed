{
 "cells": [
  {
   "cell_type": "code",
   "execution_count": 1,
   "metadata": {},
   "outputs": [],
   "source": [
    "\"\"\"\n",
    "Extracts the earthquake catalog from IRIS for a given station and time period based on obspy \n",
    "\"\"\"\n",
    "# Download the catalog\n",
    "import os\n",
    "from os import mkdir\n",
    "from os.path import exists, dirname\n",
    "from obspy.clients.fdsn.client import Client\n",
    "from obspy import UTCDateTime\n",
    "from obspy.core.event.catalog import read_events\n",
    "from rfsed.util import save_catalog\n",
    "savepath=save_catalog()\n",
    "if not exists(savepath):\n",
    "    mkdir(savepath)\n",
    "#Station Information\n",
    "staname='NE301'\n",
    "stalat=6.183432\n",
    "stalon=53.48334\n",
    "client = Client(\"IRIS\")\n",
    "starttime = UTCDateTime(\"2022-02-01\")\n",
    "endtime = UTCDateTime(\"2022-03-31\")\n",
    "f = \"%seq_events.quakeml\"%(savepath)\n",
    "#% Get the catalog and save it\n",
    "cat = client.get_events(starttime = starttime, endtime = endtime, latitude=stalat, longitude=stalon,\\\n",
    "                        minmagnitude = 6.0, maxmagnitude=10.0, minradius=30, maxradius=90, filename = f)\n",
    "\n",
    "# Read the file again and plot it\n",
    "# cat = read_events(f, format=\"QUAKEML\")\n",
    "# cat.plot()\n",
    "# %%\n"
   ]
  }
 ],
 "metadata": {
  "kernelspec": {
   "display_name": "rfsed",
   "language": "python",
   "name": "python3"
  },
  "language_info": {
   "codemirror_mode": {
    "name": "ipython",
    "version": 3
   },
   "file_extension": ".py",
   "mimetype": "text/x-python",
   "name": "python",
   "nbconvert_exporter": "python",
   "pygments_lexer": "ipython3",
   "version": "3.9.0"
  }
 },
 "nbformat": 4,
 "nbformat_minor": 2
}
