{
 "cells": [
  {
   "cell_type": "markdown",
   "metadata": {},
   "source": [
    "# Example of Resonance Filtering and Modified H-K Stacking of Receiver Functions\n",
    "\n",
    "This notebook demonstrates the resonance filtering of receiver functions to remove sediment signals before modified H-K Stacking analysis based on ReverbFilter module of [rfsed](https://github.com/akinremisa/rfsed) package\n",
    "In the first step, the receiver function data is stacked over the different ray parameters and the sediment signal is filtered out using ResonanceFilt function"
   ]
  },
  {
   "cell_type": "markdown",
   "metadata": {},
   "source": [
    "The required functions are first imported "
   ]
  },
  {
   "cell_type": "code",
   "execution_count": null,
   "metadata": {},
   "outputs": [],
   "source": [
    "#%% Example of Resonance filtering and Modified HK Stacking of Yu et al 2015\n",
    "import os \n",
    "import numpy as np\n",
    "from obspy import read\n",
    "from rfsed.ReverbFilter import ResonanceFilt, plotfiltrf\n",
    "from rfsed.hkYu import hkYu, plothkYu\n",
    "from rfsed.util import rfMoho_example, rfSed_example, save_plot"
   ]
  },
  {
   "cell_type": "markdown",
   "metadata": {},
   "source": [
    "The station and the directory to save the output are defined. "
   ]
  },
  {
   "cell_type": "code",
   "execution_count": null,
   "metadata": {},
   "outputs": [],
   "source": [
    "savedir=save_plot()\n",
    "savepath = savedir + '/Resonance_Filtering/'\n",
    "if not os.path.exists(savepath):  # create data folder if necessary\n",
    "    os.mkdir(savepath)"
   ]
  },
  {
   "cell_type": "markdown",
   "metadata": {},
   "source": [
    "The data and the preonset time in the data are defined"
   ]
  },
  {
   "cell_type": "code",
   "execution_count": null,
   "metadata": {},
   "outputs": [],
   "source": [
    "rfstream= rfMoho_example()\n",
    "preonset=10"
   ]
  },
  {
   "cell_type": "markdown",
   "metadata": {},
   "source": [
    "The resonance filtering is done, visualised and saved to a file"
   ]
  },
  {
   "cell_type": "code",
   "execution_count": null,
   "metadata": {},
   "outputs": [],
   "source": [
    "FilteredRF= ResonanceFilt(rfstream, preonset)\n",
    "plotfiltrf(FilteredRF, savepath, format = 'jpg')"
   ]
  },
  {
   "cell_type": "markdown",
   "metadata": {},
   "source": [
    "After the resonance filtering, a modified H-K Stacking is done to account for the time delay in the Moho phases"
   ]
  },
  {
   "cell_type": "markdown",
   "metadata": {},
   "source": [
    "The save path for the modified H-K Stacking is defined"
   ]
  },
  {
   "cell_type": "code",
   "execution_count": null,
   "metadata": {},
   "outputs": [],
   "source": [
    "savedir=save_plot()\n",
    "savepath = savedir + '/HK_Yu_Method/'\n",
    "if not os.path.exists(savepath):  # create data folder if necessary\n",
    "    os.mkdir(savepath)"
   ]
  },
  {
   "cell_type": "markdown",
   "metadata": {},
   "source": [
    "The Moho and Sediment phase stacking weights are defined\n",
    "The data parameters are set"
   ]
  },
  {
   "cell_type": "code",
   "execution_count": null,
   "metadata": {},
   "outputs": [],
   "source": [
    "rfstream= rfMoho_example()\n",
    "preonset=10\n",
    "VpSed=2.1\n",
    "VpMoho=6.9\n",
    "SedH= 0.6\n",
    "VsSed= 0.7858 - 1.2344*VpSed + 0.7949*VpSed**2 - 0.1238*VpSed**3 + 0.0064*VpSed**4\n",
    "gaussalp=1.25\n",
    "rayp = 0.04\n",
    "w1Sed, w2Sed, w3Sed = [0.6, 0.3, 0.1]\n",
    "w1SubSed, w2SubSed, w3SubSed = [0.6, 0.3, 0.1]"
   ]
  },
  {
   "cell_type": "markdown",
   "metadata": {},
   "source": [
    "Modified HK Stacking of Yu et al 2015 is done. This requires result from Resonance filter as input"
   ]
  },
  {
   "cell_type": "code",
   "execution_count": null,
   "metadata": {},
   "outputs": [],
   "source": [
    "#----------------------------------------------------------\n",
    "FilteredRF= ResonanceFilt(rfstream, preonset)\n",
    "# plotfiltrf(FilteredRF, savepath, format = 'jpg')\n",
    "HKResults=hkYu(FltResult=FilteredRF, rayp=rayp, HSubSed=np.linspace(20,60,201), KSubSed=np.linspace(1.65,1.95,121), \n",
    "             VpMoho=VpMoho, VpSed= VpSed, VsSed=VsSed, w1SubSed=w1SubSed, w2SubSed=w2SubSed, w3SubSed=w3SubSed)\n",
    "\n",
    "plothkYu(hkYuResult=HKResults, savepath=savepath, g = [75.,10., 15., 2.5], rmneg = None, format = 'jpg')"
   ]
  }
 ],
 "metadata": {
  "language_info": {
   "name": "python"
  }
 },
 "nbformat": 4,
 "nbformat_minor": 2
}
