{
 "cells": [
  {
   "cell_type": "markdown",
   "metadata": {},
   "source": [
    "# Resonance Filtering and Modified H-K Stacking of Receiver Functions\n",
    "\n",
    "This notebook demonstrates the resonance filtering of receiver functions to remove sediment signals before modified H-K Stacking analysis based on [rfsed](https://github.com/akinremisa/rfsed) package\n",
    "In the first step, the receiver function data is stacked over the different ray parameters and the sediment signal is filtered out using Resonance_Filt\n",
    "The required functions are first imported and the station and H-K Stacking weighting parameters are defined. "
   ]
  },
  {
   "cell_type": "code",
   "execution_count": null,
   "metadata": {},
   "outputs": [],
   "source": [
    "#%% Example of Resonance filtering and Modified HK Stacking of Yu et al 2015\n",
    "import os \n",
    "import numpy as np\n",
    "from obspy import read\n",
    "from rfsed.ReverbFilter import Resonance_Filt, plotfiltrf\n",
    "from rfsed.util import rfMoho_example, rfSed_example, save_plot\n",
    "\n",
    "savedir=save_plot()\n",
    "savepath = savedir + '/Resonance_Filtering/'\n",
    "if not os.path.exists(savepath):  # create data folder if necessary\n",
    "    os.mkdir(savepath)\n",
    "rfstream= rfMoho_example()\n",
    "preonset=10\n",
    "VpSed=2.1\n",
    "VpMoho=6.9\n",
    "SedH= 0.6\n",
    "VsSed= 0.7858 - 1.2344*VpSed + 0.7949*VpSed**2 - 0.1238*VpSed**3 + 0.0064*VpSed**4\n",
    "gaussalp=1.25\n",
    "rayp = 0.04\n",
    "w1Sed, w2Sed, w3Sed = [0.6, 0.3, 0.1]\n",
    "w1SubSed, w2SubSed, w3SubSed = [0.6, 0.3, 0.1]\n",
    "#----------------------------------------------------------\n",
    "FilteredRF= Resonance_Filt(rfstream, preonset)\n",
    "plotfiltrf(FilteredRF, savepath, format = 'jpg')"
   ]
  },
  {
   "cell_type": "markdown",
   "metadata": {},
   "source": [
    "After the resonance filtering, a modified H-K Stacking is done to account for the time delay in the Moho phases\n",
    "The Moho and Sediment phase stacking weights are define\n",
    "The results are then visualised"
   ]
  },
  {
   "cell_type": "code",
   "execution_count": null,
   "metadata": {},
   "outputs": [],
   "source": [
    "#%% Example of the Modified HK Stacking of Yu et al 2015\n",
    "# Requires result from Resonance filter \n",
    "import os \n",
    "import numpy as np\n",
    "from obspy import read\n",
    "from rfsed.hkYu import hkYu, plothkYu\n",
    "from rfsed.util import rfMoho_example, rfSed_example, save_plot\n",
    "\n",
    "savedir=save_plot()\n",
    "savepath = savedir + '/HK_Yu_Method/'\n",
    "if not os.path.exists(savepath):  # create data folder if necessary\n",
    "    os.mkdir(savepath)\n",
    "rfstream= rfMoho_example()\n",
    "VpSed=2.1\n",
    "VpMoho=6.9\n",
    "SedH= 0.6\n",
    "VsSed= 0.7858 - 1.2344*VpSed + 0.7949*VpSed**2 - 0.1238*VpSed**3 + 0.0064*VpSed**4\n",
    "gaussalp=1.25\n",
    "rayp = 0.04\n",
    "w1Sed, w2Sed, w3Sed = [0.6, 0.3, 0.1]\n",
    "w1SubSed, w2SubSed, w3SubSed = [0.6, 0.3, 0.1]\n",
    "#----------------------------------------------------------\n",
    "#----------------------------------------------------------\n",
    "FilteredRF= Resonance_Filt(rfstream)\n",
    "# plotfiltrf(FilteredRF, savepath, format = 'jpg')\n",
    "HKResults=hkYu(FltResult=FilteredRF, rayp=0.04, HSubSed=np.linspace(20,60,201), KSubSed=np.linspace(1.65,1.95,121), \n",
    "               HSed=np.linspace(0,10,201), KSed=np.linspace(1.65,2.25,201), VpMoho=6.9, VpSed= 2.5,  \n",
    "               w1SubSed=0.6, w2SubSed=0.3, w3SubSed=0.1, w1Sed=0.6, w2Sed=0.3, w3Sed=0.1)\n",
    "plothkYu(hkYuResult=HKResults, savepath=savepath, g = [75.,10., 15., 2.5], rmneg = None, format = 'jpg')"
   ]
  }
 ],
 "metadata": {
  "language_info": {
   "name": "python"
  }
 },
 "nbformat": 4,
 "nbformat_minor": 2
}
