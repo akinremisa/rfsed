{
 "cells": [
  {
   "cell_type": "markdown",
   "metadata": {},
   "source": [
    "# Extract Earthquake Waveform Data from seismic data from local drive\n",
    "# (Using Multiple Processors)\n",
    "\n",
    "This notebook demonstrates the process of extracting the earthquake waveform data from seismic data stored in a local drive\n",
    "The required functions are first imported and the station parameters and catalog of events are defined. The ExtractEq_Multiproc function in [rfsed](https://github.com/akinremisa/rfsed) package is used to extract the waveform data"
   ]
  },
  {
   "cell_type": "code",
   "execution_count": 1,
   "metadata": {},
   "outputs": [
    {
     "name": "stderr",
     "output_type": "stream",
     "text": [
      "/home/deepnl/.local/lib/python3.9/site-packages/obspy/core/util/attribdict.py:120: UserWarning: Setting attribute \"stalat\" which is not a default attribute (\"event_descriptions\", \"comments\", \"picks\", \"amplitudes\", \"focal_mechanisms\", \"origins\", \"magnitudes\", \"station_magnitudes\", \"resource_id\", \"event_type\", \"event_type_certainty\", \"creation_info\", \"preferred_origin_id\", \"preferred_magnitude_id\", \"preferred_focal_mechanism_id\").\n",
      "  warnings.warn(msg)\n",
      "/home/deepnl/.local/lib/python3.9/site-packages/obspy/core/util/attribdict.py:120: UserWarning: Setting attribute \"stalon\" which is not a default attribute (\"event_descriptions\", \"comments\", \"picks\", \"amplitudes\", \"focal_mechanisms\", \"origins\", \"magnitudes\", \"station_magnitudes\", \"resource_id\", \"event_type\", \"event_type_certainty\", \"creation_info\", \"preferred_origin_id\", \"preferred_magnitude_id\", \"preferred_focal_mechanism_id\").\n",
      "  warnings.warn(msg)\n",
      "/home/deepnl/.local/lib/python3.9/site-packages/obspy/core/util/attribdict.py:120: UserWarning: Setting attribute \"Request_start\" which is not a default attribute (\"event_descriptions\", \"comments\", \"picks\", \"amplitudes\", \"focal_mechanisms\", \"origins\", \"magnitudes\", \"station_magnitudes\", \"resource_id\", \"event_type\", \"event_type_certainty\", \"creation_info\", \"preferred_origin_id\", \"preferred_magnitude_id\", \"preferred_focal_mechanism_id\").\n",
      "  warnings.warn(msg)\n",
      "/home/deepnl/.local/lib/python3.9/site-packages/obspy/core/util/attribdict.py:120: UserWarning: Setting attribute \"Request_end\" which is not a default attribute (\"event_descriptions\", \"comments\", \"picks\", \"amplitudes\", \"focal_mechanisms\", \"origins\", \"magnitudes\", \"station_magnitudes\", \"resource_id\", \"event_type\", \"event_type_certainty\", \"creation_info\", \"preferred_origin_id\", \"preferred_magnitude_id\", \"preferred_focal_mechanism_id\").\n",
      "  warnings.warn(msg)\n"
     ]
    }
   ],
   "source": [
    "# %% Example ExtractEqMultiproc Function\n",
    "from glob import glob\n",
    "import os\n",
    "from obspy import read\n",
    "from rfsed.ExtractEqMultiproc import Add_sta_time_2cat, Get_Eqtimes_multiproc, ExtractEq_Multiproc\n",
    "from rfsed.util import catalog_example, raw_data_example, save_Eq_data\n",
    "\n",
    "staname='NE301'\n",
    "stalat=6.183432\n",
    "stalon=53.48334\n",
    "datapath= raw_data_example()\n",
    "datafiles = sorted(glob(\"%s*.dat\"%(datapath)))\n",
    "savedir=save_Eq_data()\n",
    "savepath=savedir+'/Extracted_Eq_Data_Multiproc/'\n",
    "if not os.path.exists(savepath):\n",
    "    os.mkdir(savepath)\n",
    "filename = savepath + 'eq_data.h5'\n",
    "catalogfile=catalog_example()\n",
    "Request_window=[-50, 150] #Time relative to first P arrival\n",
    "nproc = 40 #Number of processors to use if parallel processing is used\n",
    "catalog = Add_sta_time_2cat(catalogfile, stalat, stalon, Request_window)\n",
    "timewindow=Get_Eqtimes_multiproc(catalog, nproc)\n",
    "eqdata = ExtractEq_Multiproc(datafiles=datafiles, timewindow=timewindow, nproc=nproc, filename=filename)"
   ]
  },
  {
   "cell_type": "markdown",
   "metadata": {},
   "source": [
    "The extracted and saved data is read and displayed to check the content of the data"
   ]
  },
  {
   "cell_type": "code",
   "execution_count": 2,
   "metadata": {},
   "outputs": [
    {
     "name": "stdout",
     "output_type": "stream",
     "text": [
      "24 Traces in the file\n",
      "24 Trace(s) in Stream:\n",
      "\n",
      "NR.NE301..HHZ | 2022-03-06T20:26:36.120000Z - 2022-03-06T20:29:56.120000Z | 100.0 Hz, 20001 samples\n",
      "...\n",
      "(22 other traces)\n",
      "...\n",
      "NR.NE301..LHE | 2022-03-13T21:15:40.000000Z - 2022-03-13T21:19:00.000000Z | 1.0 Hz, 201 samples\n",
      "\n",
      "[Use \"print(Stream.__str__(extended=True))\" to print all Traces]\n"
     ]
    }
   ],
   "source": [
    "#%% Check the number of traces in the file\n",
    "data_extract=read(filename )\n",
    "print(len(data_extract), 'Traces in the file')\n",
    "print(data_extract)"
   ]
  }
 ],
 "metadata": {
  "kernelspec": {
   "display_name": "rfsed",
   "language": "python",
   "name": "python3"
  },
  "language_info": {
   "codemirror_mode": {
    "name": "ipython",
    "version": 3
   },
   "file_extension": ".py",
   "mimetype": "text/x-python",
   "name": "python",
   "nbconvert_exporter": "python",
   "pygments_lexer": "ipython3",
   "version": "3.9.0"
  }
 },
 "nbformat": 4,
 "nbformat_minor": 2
}
