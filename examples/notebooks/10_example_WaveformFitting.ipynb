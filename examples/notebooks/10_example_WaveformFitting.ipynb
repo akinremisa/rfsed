{
 "cells": [
  {
   "cell_type": "markdown",
   "metadata": {},
   "source": [
    "# Waveform Fitting of Receiver Functions\n",
    "\n",
    "This notebook demonstrates waveform fitting of receiver function to retrieve Moho structure based on [rfsed](https://github.com/akinremisa/rfsed) package\n",
    "\n",
    "The required functions are first imported "
   ]
  },
  {
   "cell_type": "code",
   "execution_count": null,
   "metadata": {},
   "outputs": [],
   "source": [
    "#%% Example of Waveform Fitting \n",
    "import os \n",
    "from os.path import exists\n",
    "from os import mkdir\n",
    "import numpy as np\n",
    "from glob import glob\n",
    "from rf import read_rf, RFStream\n",
    "from rfsed.WaveformFitting import WaveformFitting, PlotWaveformFitting    \n",
    "from rfsed.util import rfMoho_example, rfSed_example, save_plot\n"
   ]
  },
  {
   "cell_type": "markdown",
   "metadata": {},
   "source": [
    "The receiver function data is defined and the Moho parameters. The waveform fitting analysis is performed."
   ]
  },
  {
   "cell_type": "code",
   "execution_count": null,
   "metadata": {},
   "outputs": [],
   "source": [
    "#----------------------------------------------------------\n",
    "savedir=save_plot()\n",
    "savepath = savedir + '/WaveformFitting/'\n",
    "if not os.path.exists(savepath):  # create data folder if necessary\n",
    "    os.mkdir(savepath)\n",
    "\n",
    "rfstream= rfMoho_example()\n",
    "preonset=10\n",
    "VpSed=2.2\n",
    "HSed=0.1\n",
    "VpCrust = 6.9\n",
    "gaussian=1.25\n",
    "rayp=0.04\n",
    "KMoho= np.linspace(1.65,1.95,121)\n",
    "HMoho=np.linspace(20,60,201)\n",
    "# KMoho= np.linspace(1.65,1.95,5)\n",
    "# HMoho=np.linspace(20,60,5)\n",
    "wtCorr, wtRMSE, wtPG = [0.5, 0.3, 0.2] #wtCorr+wtRMSE+wtPG=1.0\n",
    "format='pdf'\n",
    "FittingResult = WaveformFitting(rfstream, preonset, HSed, VpSed, VpCrust, rayp, KMoho, HMoho, \n",
    "                     gaussian, wtCorr, wtRMSE, wtPG, savepath, format)"
   ]
  },
  {
   "cell_type": "markdown",
   "metadata": {},
   "source": [
    "The waveform fitting results are visualised"
   ]
  },
  {
   "cell_type": "code",
   "execution_count": null,
   "metadata": {},
   "outputs": [],
   "source": [
    "#%%\n",
    "PlotWaveformFitting(FittingResult, wtCorr, wtRMSE, wtPG, savepath, format)"
   ]
  }
 ],
 "metadata": {
  "language_info": {
   "name": "python"
  }
 },
 "nbformat": 4,
 "nbformat_minor": 2
}
